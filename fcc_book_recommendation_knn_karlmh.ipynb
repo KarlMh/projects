{
  "cells": [
    {
      "cell_type": "markdown",
      "metadata": {
        "id": "view-in-github",
        "colab_type": "text"
      },
      "source": [
        "<a href=\"https://colab.research.google.com/github/KarlMh/projects/blob/main/fcc_book_recommendation_knn_karlmh.ipynb\" target=\"_parent\"><img src=\"https://colab.research.google.com/assets/colab-badge.svg\" alt=\"Open In Colab\"/></a>"
      ]
    },
    {
      "cell_type": "code",
      "execution_count": null,
      "metadata": {
        "id": "Y1onB6kUvo4Z"
      },
      "outputs": [],
      "source": [
        "# import libraries (you may add additional imports but you may not have to)\n",
        "import numpy as np\n",
        "import pandas as pd\n",
        "from scipy.sparse import csr_matrix\n",
        "from sklearn.neighbors import NearestNeighbors\n",
        "import matplotlib.pyplot as plt\n",
        "from sklearn.preprocessing import StandardScaler"
      ]
    },
    {
      "cell_type": "code",
      "execution_count": null,
      "metadata": {
        "id": "iAQGqqO_vo4d",
        "colab": {
          "base_uri": "https://localhost:8080/"
        },
        "outputId": "cff02390-9b0b-452d-83d2-a23bd57189ab"
      },
      "outputs": [
        {
          "output_type": "stream",
          "name": "stdout",
          "text": [
            "--2024-08-13 12:31:24--  https://cdn.freecodecamp.org/project-data/books/book-crossings.zip\n",
            "Resolving cdn.freecodecamp.org (cdn.freecodecamp.org)... 104.26.2.33, 104.26.3.33, 172.67.70.149, ...\n",
            "Connecting to cdn.freecodecamp.org (cdn.freecodecamp.org)|104.26.2.33|:443... connected.\n",
            "HTTP request sent, awaiting response... 200 OK\n",
            "Length: 26085508 (25M) [application/zip]\n",
            "Saving to: ‘book-crossings.zip.1’\n",
            "\n",
            "book-crossings.zip. 100%[===================>]  24.88M  85.2MB/s    in 0.3s    \n",
            "\n",
            "2024-08-13 12:31:25 (85.2 MB/s) - ‘book-crossings.zip.1’ saved [26085508/26085508]\n",
            "\n",
            "Archive:  book-crossings.zip\n",
            "replace BX-Book-Ratings.csv? [y]es, [n]o, [A]ll, [N]one, [r]ename: "
          ]
        }
      ],
      "source": [
        "# get data files\n",
        "!wget https://cdn.freecodecamp.org/project-data/books/book-crossings.zip\n",
        "\n",
        "!unzip book-crossings.zip\n",
        "\n",
        "books_filename = 'BX-Books.csv'\n",
        "ratings_filename = 'BX-Book-Ratings.csv'"
      ]
    },
    {
      "cell_type": "code",
      "execution_count": null,
      "metadata": {
        "id": "NClILWOiEd6Q"
      },
      "outputs": [],
      "source": [
        "# import csv data into dataframes\n",
        "df_books = pd.read_csv(\n",
        "    books_filename,\n",
        "    encoding = \"ISO-8859-1\",\n",
        "    sep=\";\",\n",
        "    header=0,\n",
        "    names=['isbn', 'title', 'author'],\n",
        "    usecols=['isbn', 'title', 'author'],\n",
        "    dtype={'isbn': 'str', 'title': 'str', 'author': 'str'})\n",
        "\n",
        "df_ratings = pd.read_csv(\n",
        "    ratings_filename,\n",
        "    encoding = \"ISO-8859-1\",\n",
        "    sep=\";\",\n",
        "    header=0,\n",
        "    names=['user', 'isbn', 'rating'],\n",
        "    usecols=['user', 'isbn', 'rating'],\n",
        "    dtype={'user': 'int32', 'isbn': 'str', 'rating': 'float32'})"
      ]
    },
    {
      "cell_type": "code",
      "execution_count": null,
      "metadata": {
        "id": "xAcXjkCFCh0A",
        "colab": {
          "base_uri": "https://localhost:8080/"
        },
        "outputId": "7b581c50-7b6f-4405-ae85-ba5882498417"
      },
      "outputs": [
        {
          "output_type": "stream",
          "name": "stdout",
          "text": [
            "Initial df_ratings shape: (1149780, 3)\n",
            "Initial df_books shape: (271379, 3)\n",
            "Filtered df_ratings shape: (1149780, 3)\n",
            "Merged dataframe shape: (1031175, 5)\n"
          ]
        },
        {
          "output_type": "stream",
          "name": "stderr",
          "text": [
            "<ipython-input-4-ca69e59be300>:24: PerformanceWarning: The following operation may generate 22206076630 cells in the resulting pandas object.\n",
            "  book_user_matrix = df.pivot_table(index='title', columns='user', values='rating').fillna(0)\n"
          ]
        }
      ],
      "source": [
        "# Check the initial size of dataframes\n",
        "print(f\"Initial df_ratings shape: {df_ratings.shape}\")\n",
        "print(f\"Initial df_books shape: {df_books.shape}\")\n",
        "\n",
        "# Filter users with at least 20 ratings\n",
        "user_counts = df_ratings['user'].value_counts()\n",
        "users_to_keep = user_counts[user_counts >= 1].index\n",
        "df_ratings_filtered = df_ratings[df_ratings['user'].isin(users_to_keep)]\n",
        "\n",
        "# Filter books with at least 20 ratings\n",
        "book_counts = df_ratings_filtered['isbn'].value_counts()\n",
        "books_to_keep = book_counts[book_counts >= 1].index\n",
        "df_ratings_filtered = df_ratings_filtered[df_ratings_filtered['isbn'].isin(books_to_keep)]\n",
        "\n",
        "# Check the size of the filtered dataframe\n",
        "print(f\"Filtered df_ratings shape: {df_ratings_filtered.shape}\")\n",
        "\n",
        "# Merge the ratings with book titles\n",
        "df = pd.merge(df_ratings_filtered, df_books, on='isbn')\n",
        "print(f\"Merged dataframe shape: {df.shape}\")\n",
        "\n",
        "# Create a pivot table\n",
        "try:\n",
        "    book_user_matrix = df.pivot_table(index='title', columns='user', values='rating').fillna(0)\n",
        "    print(f\"Pivot table shape: {book_user_matrix.shape}\")\n",
        "except Exception as e:\n",
        "    print(f\"Error creating pivot table: {e}\")\n",
        "\n",
        "# Create a sparse matrix\n",
        "book_user_sparse_matrix = csr_matrix(book_user_matrix.values)\n",
        "print(f\"Sparse matrix shape: {book_user_sparse_matrix.shape}\")\n",
        "\n",
        "# Fit the KNN model\n",
        "model = NearestNeighbors(metric='cosine', algorithm='brute')\n",
        "model.fit(book_user_sparse_matrix)"
      ]
    },
    {
      "cell_type": "code",
      "source": [],
      "metadata": {
        "id": "L_Uy6YA1gPcj"
      },
      "execution_count": null,
      "outputs": []
    },
    {
      "cell_type": "code",
      "execution_count": null,
      "metadata": {
        "id": "f5ZUd-L1SQz7"
      },
      "outputs": [],
      "source": [
        "# Create the get_recommends function\n",
        "def get_recommends(book_title, n_recommendations=5):\n",
        "    if book_title not in book_user_matrix.index:\n",
        "        raise ValueError(f\"Book '{book_title}' not found in the dataset.\")\n",
        "\n",
        "    # Get the index of the book\n",
        "    book_index = book_user_matrix.index.get_loc(book_title)\n",
        "\n",
        "    # Get the distances and indices of the nearest neighbors\n",
        "    distances, indices = model.kneighbors(book_user_sparse_matrix[book_index].reshape(1, -1), n_neighbors=n_recommendations + 1)\n",
        "\n",
        "    # Get the titles and distances of the recommended books\n",
        "    recommended_books = []\n",
        "    for i in range(1, len(distances.flatten())):  # Skip the first one because it’s the input book itself\n",
        "        book_idx = indices.flatten()[i]\n",
        "        recommended_books.append([book_user_matrix.index[book_idx], distances.flatten()[i]])\n",
        "\n",
        "    return [book_title, recommended_books]\n",
        "\n",
        "get_recommends(\"Where the Heart Is (Oprah's Book Club (Paperback))\")"
      ]
    },
    {
      "cell_type": "code",
      "execution_count": null,
      "metadata": {
        "id": "jd2SLCh8oxMh"
      },
      "outputs": [],
      "source": [
        "\n",
        "def test_book_recommendation():\n",
        "  test_pass = True\n",
        "  recommends = get_recommends(\"Where the Heart Is (Oprah's Book Club (Paperback))\")\n",
        "  if recommends[0] != \"Where the Heart Is (Oprah's Book Club (Paperback))\":\n",
        "    test_pass = False\n",
        "  recommended_books = [\"I'll Be Seeing You\", 'The Weight of Water', 'The Surgeon', 'I Know This Much Is True']\n",
        "  recommended_books_dist = [0.8, 0.77, 0.77, 0.77]\n",
        "  for i in range(2):\n",
        "    if recommends[1][i][0] not in recommended_books:\n",
        "      test_pass = False\n",
        "    if abs(recommends[1][i][1] - recommended_books_dist[i]) >= 0.05:\n",
        "      test_pass = False\n",
        "  if test_pass:\n",
        "    print(\"You passed the challenge! 🎉🎉🎉🎉🎉\")\n",
        "  else:\n",
        "    print(\"You haven't passed yet. Keep trying!\")\n",
        "\n",
        "test_book_recommendation()"
      ]
    }
  ],
  "metadata": {
    "colab": {
      "provenance": [],
      "gpuType": "T4",
      "include_colab_link": true
    },
    "kernelspec": {
      "display_name": "Python 3",
      "name": "python3"
    },
    "language_info": {
      "codemirror_mode": {
        "name": "ipython",
        "version": 3
      },
      "file_extension": ".py",
      "mimetype": "text/x-python",
      "name": "python",
      "nbconvert_exporter": "python",
      "pygments_lexer": "ipython3",
      "version": "3.6.5"
    },
    "accelerator": "GPU"
  },
  "nbformat": 4,
  "nbformat_minor": 0
}